{
 "cells": [
  {
   "cell_type": "markdown",
   "metadata": {},
   "source": [
    "For more information about how to setup google sheets api:\n",
    "\n",
    "Portuguese: https://developers.google.com/sheets/api/quickstart/python?hl=pt-br\n",
    "\n",
    "English: https://developers.google.com/sheets/api/quickstart/python"
   ]
  },
  {
   "cell_type": "markdown",
   "metadata": {},
   "source": [
    "``` python\n",
    "pip install --upgrade google-api-python-client google-auth-httplib2 google-auth-oauthlib\n",
    "```"
   ]
  },
  {
   "cell_type": "code",
   "execution_count": 15,
   "metadata": {},
   "outputs": [],
   "source": [
    "from utls import *"
   ]
  },
  {
   "cell_type": "code",
   "execution_count": 17,
   "metadata": {},
   "outputs": [
    {
     "ename": "NameError",
     "evalue": "name 'get_google_sheets_data' is not defined",
     "output_type": "error",
     "traceback": [
      "\u001b[1;31m---------------------------------------------------------------------------\u001b[0m",
      "\u001b[1;31mNameError\u001b[0m                                 Traceback (most recent call last)",
      "Cell \u001b[1;32mIn[17], line 1\u001b[0m\n\u001b[1;32m----> 1\u001b[0m \u001b[43mget_google_sheets_data\u001b[49m\n",
      "\u001b[1;31mNameError\u001b[0m: name 'get_google_sheets_data' is not defined"
     ]
    }
   ],
   "source": [
    "get_google_sheets_data"
   ]
  },
  {
   "cell_type": "code",
   "execution_count": 18,
   "metadata": {},
   "outputs": [
    {
     "ename": "NameError",
     "evalue": "name 'get_google_sheets_data' is not defined",
     "output_type": "error",
     "traceback": [
      "\u001b[1;31m---------------------------------------------------------------------------\u001b[0m",
      "\u001b[1;31mNameError\u001b[0m                                 Traceback (most recent call last)",
      "Cell \u001b[1;32mIn[18], line 1\u001b[0m\n\u001b[1;32m----> 1\u001b[0m \u001b[43mget_google_sheets_data\u001b[49m(SAMPLE_SPREADSHEET_ID\u001b[38;5;241m=\u001b[39m\u001b[38;5;124m'\u001b[39m\u001b[38;5;124m1Rxo642UduYjf1OvHmvgXS5UN4OBwXK1nfOOWXMcYBrA\u001b[39m\u001b[38;5;124m'\u001b[39m, SAMPLE_RANGE_NAME\u001b[38;5;241m=\u001b[39m\u001b[38;5;124m'\u001b[39m\u001b[38;5;124mRespostas ao formulário 1!A1:P1000\u001b[39m\u001b[38;5;124m'\u001b[39m)\n",
      "\u001b[1;31mNameError\u001b[0m: name 'get_google_sheets_data' is not defined"
     ]
    }
   ],
   "source": [
    "get_google_sheets_data(SAMPLE_SPREADSHEET_ID='1Rxo642UduYjf1OvHmvgXS5UN4OBwXK1nfOOWXMcYBrA', SAMPLE_RANGE_NAME='Respostas ao formulário 1!A1:P1000')"
   ]
  }
 ],
 "metadata": {
  "kernelspec": {
   "display_name": "Python 3",
   "language": "python",
   "name": "python3"
  },
  "language_info": {
   "codemirror_mode": {
    "name": "ipython",
    "version": 3
   },
   "file_extension": ".py",
   "mimetype": "text/x-python",
   "name": "python",
   "nbconvert_exporter": "python",
   "pygments_lexer": "ipython3",
   "version": "3.11.9"
  }
 },
 "nbformat": 4,
 "nbformat_minor": 2
}
