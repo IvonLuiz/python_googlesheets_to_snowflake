{
 "cells": [
  {
   "cell_type": "markdown",
   "metadata": {},
   "source": [
    "For more information about how to setup google sheets api:\n",
    "\n",
    "Portuguese: https://developers.google.com/sheets/api/quickstart/python?hl=pt-br\n",
    "\n",
    "English: https://developers.google.com/sheets/api/quickstart/python"
   ]
  },
  {
   "cell_type": "markdown",
   "metadata": {},
   "source": [
    "``` python\n",
    "pip install --upgrade google-api-python-client google-auth-httplib2 google-auth-oauthlib\n",
    "```"
   ]
  },
  {
   "cell_type": "code",
   "execution_count": 1,
   "metadata": {},
   "outputs": [],
   "source": [
    "import pandas as pd\n",
    "from gsheets_utils import *"
   ]
  },
  {
   "cell_type": "code",
   "execution_count": 2,
   "metadata": {},
   "outputs": [
    {
     "name": "stdout",
     "output_type": "stream",
     "text": [
      "[['Carimbo de data/hora', 'Endereço de e-mail', 'Sprint de referência (devops)', 'Em qual squad você está atuando?', 'Me senti engajado para realizar minhas atividades ao longo da última sprint', 'Sinto que me desenvolvi profissionalmente ao longo da última sprint\\n', 'Sinto que conclui as atividades da sprint com qualidade\\n', 'Sinto que conclui as atividades da sprint no prazo adequado\\n', 'De forma geral, me sinto bem e satisfeito trabalhando na Indicium', 'Deixe seu comentário ou sugestão do que podemos melhorar'], ['22/04/2024 16:56:53', 'natana.pedroso@indicium.tech', 'Sprint 18', 'CSC', '8', '8', '10', '10', '8', 'n/a'], ['22/04/2024 17:26:08', 'raphael.silva@indicium.tech', '18', 'CSC', '10', '10', '8', '7', '10', 'Creio que o problema maior é os prazos apertados e a dificuldade de entrega'], ['22/04/2024 17:27:47', 'thalis.trabach@indicium.tech', 'NA', 'Tlog', '7', '7', '8', '9', '9', 'não temos uma gestão assertiva pra fazer analise por sprint. estamos trabalhando para que adelia possa colocar a mão nos projetos o mais rapido possivel!'], ['22/04/2024 17:44:44', 'luis.silva@indicium.tech', 'Sprint 49', 'Tlog', '10', '8', '10', '8', '10', ' '], ['22/04/2024 19:38:08', 'emy.kuroiwa@indicium.tech', 'Sprint 62', 'Tlog', '9', '9', '9', '9', '10', 'NA'], ['23/04/2024 08:26:23', 'hevans.pereira@indicium.tech', '49', 'Tlog', '10', '10', '10', '10', '10', '.,;'], ['23/04/2024 08:28:08', 'claudia.fonseca@indicium.tech', 'Sprint 62', 'Tlog', '10', '10', '7', '8', '10', 'Sinto que a quantidade de demandas aumentou muito no último mês, o que fez com que minhas entregas perdessem qualidade ou passassem do prazo. \\n\\n(Ao mesmo tempo, estamos passando os projetos de DS para o novo padrão da Indicium do Databricks, aprendendo a usar Feature Store e variáveis de ambiente, estudando para a certificação de Machine Learning do Databricks. Enquanto isso, coloquei meu primeiro modelo em produção e estou fazendo o delivery de um projeto importante.)\\n\\nAssim, estou tentando me aprimorar pra errar menos e otimizar meu tempo. Então, eu só queria agradecer a ajuda e a paciência de todos nesse processo.'], ['23/04/2024 13:37:53', 'vinicius.pereira@indicium.tech', '49', 'Tlog', '7', '6', '8', '8', '10', 'Eu estou curtindo muito as VQETEs. Sei que é complicado conseguir o pessoal e o assunto, mas seria legal a gente continuar'], ['25/04/2024 08:54:13', 'arthur.rogerio@indicium.tech', '16', 'GTA', '10', '10', '10', '9', '10', 'n/a']]\n"
     ]
    }
   ],
   "source": [
    "gs_client = GoogleSheetsClient(credentials_file='credentials.json')\n",
    "sheet_df = gs_client.get_sheet_data_as_dataframe(\n",
    "    spreadsheet_id='1Rxo642UduYjf1OvHmvgXS5UN4OBwXK1nfOOWXMcYBrA',\n",
    "    range_name='Respostas ao formulário 1!A1:P100'\n",
    ")"
   ]
  },
  {
   "cell_type": "code",
   "execution_count": 24,
   "metadata": {},
   "outputs": [
    {
     "data": {
      "text/html": [
       "<div>\n",
       "<style scoped>\n",
       "    .dataframe tbody tr th:only-of-type {\n",
       "        vertical-align: middle;\n",
       "    }\n",
       "\n",
       "    .dataframe tbody tr th {\n",
       "        vertical-align: top;\n",
       "    }\n",
       "\n",
       "    .dataframe thead th {\n",
       "        text-align: right;\n",
       "    }\n",
       "</style>\n",
       "<table border=\"1\" class=\"dataframe\">\n",
       "  <thead>\n",
       "    <tr style=\"text-align: right;\">\n",
       "      <th></th>\n",
       "      <th>0</th>\n",
       "      <th>1</th>\n",
       "      <th>2</th>\n",
       "      <th>3</th>\n",
       "      <th>4</th>\n",
       "      <th>5</th>\n",
       "      <th>6</th>\n",
       "      <th>7</th>\n",
       "      <th>8</th>\n",
       "      <th>9</th>\n",
       "    </tr>\n",
       "  </thead>\n",
       "  <tbody>\n",
       "    <tr>\n",
       "      <th>0</th>\n",
       "      <td>Carimbo de data/hora</td>\n",
       "      <td>Endereço de e-mail</td>\n",
       "      <td>Sprint de referência (devops)</td>\n",
       "      <td>Em qual squad você está atuando?</td>\n",
       "      <td>Me senti engajado para realizar minhas ativida...</td>\n",
       "      <td>Sinto que me desenvolvi profissionalmente ao l...</td>\n",
       "      <td>Sinto que conclui as atividades da sprint com ...</td>\n",
       "      <td>Sinto que conclui as atividades da sprint no p...</td>\n",
       "      <td>De forma geral, me sinto bem e satisfeito trab...</td>\n",
       "      <td>Deixe seu comentário ou sugestão do que podemo...</td>\n",
       "    </tr>\n",
       "    <tr>\n",
       "      <th>1</th>\n",
       "      <td>22/04/2024 16:56:53</td>\n",
       "      <td>natana.pedroso@indicium.tech</td>\n",
       "      <td>Sprint 18</td>\n",
       "      <td>CSC</td>\n",
       "      <td>8</td>\n",
       "      <td>8</td>\n",
       "      <td>10</td>\n",
       "      <td>10</td>\n",
       "      <td>8</td>\n",
       "      <td>n/a</td>\n",
       "    </tr>\n",
       "    <tr>\n",
       "      <th>2</th>\n",
       "      <td>22/04/2024 17:26:08</td>\n",
       "      <td>raphael.silva@indicium.tech</td>\n",
       "      <td>18</td>\n",
       "      <td>CSC</td>\n",
       "      <td>10</td>\n",
       "      <td>10</td>\n",
       "      <td>8</td>\n",
       "      <td>7</td>\n",
       "      <td>10</td>\n",
       "      <td>Creio que o problema maior é os prazos apertad...</td>\n",
       "    </tr>\n",
       "    <tr>\n",
       "      <th>3</th>\n",
       "      <td>22/04/2024 17:27:47</td>\n",
       "      <td>thalis.trabach@indicium.tech</td>\n",
       "      <td>NA</td>\n",
       "      <td>Tlog</td>\n",
       "      <td>7</td>\n",
       "      <td>7</td>\n",
       "      <td>8</td>\n",
       "      <td>9</td>\n",
       "      <td>9</td>\n",
       "      <td>não temos uma gestão assertiva pra fazer anali...</td>\n",
       "    </tr>\n",
       "    <tr>\n",
       "      <th>4</th>\n",
       "      <td>22/04/2024 17:44:44</td>\n",
       "      <td>luis.silva@indicium.tech</td>\n",
       "      <td>Sprint 49</td>\n",
       "      <td>Tlog</td>\n",
       "      <td>10</td>\n",
       "      <td>8</td>\n",
       "      <td>10</td>\n",
       "      <td>8</td>\n",
       "      <td>10</td>\n",
       "      <td></td>\n",
       "    </tr>\n",
       "    <tr>\n",
       "      <th>5</th>\n",
       "      <td>22/04/2024 19:38:08</td>\n",
       "      <td>emy.kuroiwa@indicium.tech</td>\n",
       "      <td>Sprint 62</td>\n",
       "      <td>Tlog</td>\n",
       "      <td>9</td>\n",
       "      <td>9</td>\n",
       "      <td>9</td>\n",
       "      <td>9</td>\n",
       "      <td>10</td>\n",
       "      <td>NA</td>\n",
       "    </tr>\n",
       "    <tr>\n",
       "      <th>6</th>\n",
       "      <td>23/04/2024 08:26:23</td>\n",
       "      <td>hevans.pereira@indicium.tech</td>\n",
       "      <td>49</td>\n",
       "      <td>Tlog</td>\n",
       "      <td>10</td>\n",
       "      <td>10</td>\n",
       "      <td>10</td>\n",
       "      <td>10</td>\n",
       "      <td>10</td>\n",
       "      <td>.,;</td>\n",
       "    </tr>\n",
       "    <tr>\n",
       "      <th>7</th>\n",
       "      <td>23/04/2024 08:28:08</td>\n",
       "      <td>claudia.fonseca@indicium.tech</td>\n",
       "      <td>Sprint 62</td>\n",
       "      <td>Tlog</td>\n",
       "      <td>10</td>\n",
       "      <td>10</td>\n",
       "      <td>7</td>\n",
       "      <td>8</td>\n",
       "      <td>10</td>\n",
       "      <td>Sinto que a quantidade de demandas aumentou mu...</td>\n",
       "    </tr>\n",
       "    <tr>\n",
       "      <th>8</th>\n",
       "      <td>23/04/2024 13:37:53</td>\n",
       "      <td>vinicius.pereira@indicium.tech</td>\n",
       "      <td>49</td>\n",
       "      <td>Tlog</td>\n",
       "      <td>7</td>\n",
       "      <td>6</td>\n",
       "      <td>8</td>\n",
       "      <td>8</td>\n",
       "      <td>10</td>\n",
       "      <td>Eu estou curtindo muito as VQETEs. Sei que é c...</td>\n",
       "    </tr>\n",
       "    <tr>\n",
       "      <th>9</th>\n",
       "      <td>25/04/2024 08:54:13</td>\n",
       "      <td>arthur.rogerio@indicium.tech</td>\n",
       "      <td>16</td>\n",
       "      <td>GTA</td>\n",
       "      <td>10</td>\n",
       "      <td>10</td>\n",
       "      <td>10</td>\n",
       "      <td>9</td>\n",
       "      <td>10</td>\n",
       "      <td>n/a</td>\n",
       "    </tr>\n",
       "  </tbody>\n",
       "</table>\n",
       "</div>"
      ],
      "text/plain": [
       "                      0                               1  \\\n",
       "0  Carimbo de data/hora              Endereço de e-mail   \n",
       "1   22/04/2024 16:56:53    natana.pedroso@indicium.tech   \n",
       "2   22/04/2024 17:26:08     raphael.silva@indicium.tech   \n",
       "3   22/04/2024 17:27:47    thalis.trabach@indicium.tech   \n",
       "4   22/04/2024 17:44:44        luis.silva@indicium.tech   \n",
       "5   22/04/2024 19:38:08       emy.kuroiwa@indicium.tech   \n",
       "6   23/04/2024 08:26:23    hevans.pereira@indicium.tech   \n",
       "7   23/04/2024 08:28:08   claudia.fonseca@indicium.tech   \n",
       "8   23/04/2024 13:37:53  vinicius.pereira@indicium.tech   \n",
       "9   25/04/2024 08:54:13    arthur.rogerio@indicium.tech   \n",
       "\n",
       "                               2                                 3  \\\n",
       "0  Sprint de referência (devops)  Em qual squad você está atuando?   \n",
       "1                      Sprint 18                               CSC   \n",
       "2                             18                               CSC   \n",
       "3                             NA                              Tlog   \n",
       "4                      Sprint 49                              Tlog   \n",
       "5                      Sprint 62                              Tlog   \n",
       "6                             49                              Tlog   \n",
       "7                      Sprint 62                              Tlog   \n",
       "8                             49                              Tlog   \n",
       "9                             16                               GTA   \n",
       "\n",
       "                                                   4  \\\n",
       "0  Me senti engajado para realizar minhas ativida...   \n",
       "1                                                  8   \n",
       "2                                                 10   \n",
       "3                                                  7   \n",
       "4                                                 10   \n",
       "5                                                  9   \n",
       "6                                                 10   \n",
       "7                                                 10   \n",
       "8                                                  7   \n",
       "9                                                 10   \n",
       "\n",
       "                                                   5  \\\n",
       "0  Sinto que me desenvolvi profissionalmente ao l...   \n",
       "1                                                  8   \n",
       "2                                                 10   \n",
       "3                                                  7   \n",
       "4                                                  8   \n",
       "5                                                  9   \n",
       "6                                                 10   \n",
       "7                                                 10   \n",
       "8                                                  6   \n",
       "9                                                 10   \n",
       "\n",
       "                                                   6  \\\n",
       "0  Sinto que conclui as atividades da sprint com ...   \n",
       "1                                                 10   \n",
       "2                                                  8   \n",
       "3                                                  8   \n",
       "4                                                 10   \n",
       "5                                                  9   \n",
       "6                                                 10   \n",
       "7                                                  7   \n",
       "8                                                  8   \n",
       "9                                                 10   \n",
       "\n",
       "                                                   7  \\\n",
       "0  Sinto que conclui as atividades da sprint no p...   \n",
       "1                                                 10   \n",
       "2                                                  7   \n",
       "3                                                  9   \n",
       "4                                                  8   \n",
       "5                                                  9   \n",
       "6                                                 10   \n",
       "7                                                  8   \n",
       "8                                                  8   \n",
       "9                                                  9   \n",
       "\n",
       "                                                   8  \\\n",
       "0  De forma geral, me sinto bem e satisfeito trab...   \n",
       "1                                                  8   \n",
       "2                                                 10   \n",
       "3                                                  9   \n",
       "4                                                 10   \n",
       "5                                                 10   \n",
       "6                                                 10   \n",
       "7                                                 10   \n",
       "8                                                 10   \n",
       "9                                                 10   \n",
       "\n",
       "                                                   9  \n",
       "0  Deixe seu comentário ou sugestão do que podemo...  \n",
       "1                                                n/a  \n",
       "2  Creio que o problema maior é os prazos apertad...  \n",
       "3  não temos uma gestão assertiva pra fazer anali...  \n",
       "4                                                     \n",
       "5                                                 NA  \n",
       "6                                                .,;  \n",
       "7  Sinto que a quantidade de demandas aumentou mu...  \n",
       "8  Eu estou curtindo muito as VQETEs. Sei que é c...  \n",
       "9                                                n/a  "
      ]
     },
     "execution_count": 24,
     "metadata": {},
     "output_type": "execute_result"
    }
   ],
   "source": [
    "sheet_df.head(10)"
   ]
  },
  {
   "cell_type": "code",
   "execution_count": 5,
   "metadata": {},
   "outputs": [
    {
     "name": "stdout",
     "output_type": "stream",
     "text": [
      "[['Carimbo de data/hora', 'Endereço de e-mail', 'Sprint de referência (devops)', 'Em qual squad você está atuando?', 'Me senti engajado para realizar minhas atividades ao longo da última sprint', 'Sinto que me desenvolvi profissionalmente ao longo da última sprint\\n', 'Sinto que conclui as atividades da sprint com qualidade\\n', 'Sinto que conclui as atividades da sprint no prazo adequado\\n', 'De forma geral, me sinto bem e satisfeito trabalhando na Indicium', 'Deixe seu comentário ou sugestão do que podemos melhorar'], ['22/04/2024 16:56:53', 'natana.pedroso@indicium.tech', 'Sprint 18', 'CSC', '8', '8', '10', '10', '8', 'n/a'], ['22/04/2024 17:26:08', 'raphael.silva@indicium.tech', '18', 'CSC', '10', '10', '8', '7', '10', 'Creio que o problema maior é os prazos apertados e a dificuldade de entrega'], ['22/04/2024 17:27:47', 'thalis.trabach@indicium.tech', 'NA', 'Tlog', '7', '7', '8', '9', '9', 'não temos uma gestão assertiva pra fazer analise por sprint. estamos trabalhando para que adelia possa colocar a mão nos projetos o mais rapido possivel!'], ['22/04/2024 17:44:44', 'luis.silva@indicium.tech', 'Sprint 49', 'Tlog', '10', '8', '10', '8', '10', ' '], ['22/04/2024 19:38:08', 'emy.kuroiwa@indicium.tech', 'Sprint 62', 'Tlog', '9', '9', '9', '9', '10', 'NA'], ['23/04/2024 08:26:23', 'hevans.pereira@indicium.tech', '49', 'Tlog', '10', '10', '10', '10', '10', '.,;'], ['23/04/2024 08:28:08', 'claudia.fonseca@indicium.tech', 'Sprint 62', 'Tlog', '10', '10', '7', '8', '10', 'Sinto que a quantidade de demandas aumentou muito no último mês, o que fez com que minhas entregas perdessem qualidade ou passassem do prazo. \\n\\n(Ao mesmo tempo, estamos passando os projetos de DS para o novo padrão da Indicium do Databricks, aprendendo a usar Feature Store e variáveis de ambiente, estudando para a certificação de Machine Learning do Databricks. Enquanto isso, coloquei meu primeiro modelo em produção e estou fazendo o delivery de um projeto importante.)\\n\\nAssim, estou tentando me aprimorar pra errar menos e otimizar meu tempo. Então, eu só queria agradecer a ajuda e a paciência de todos nesse processo.'], ['23/04/2024 13:37:53', 'vinicius.pereira@indicium.tech', '49', 'Tlog', '7', '6', '8', '8', '10', 'Eu estou curtindo muito as VQETEs. Sei que é complicado conseguir o pessoal e o assunto, mas seria legal a gente continuar'], ['25/04/2024 08:54:13', 'arthur.rogerio@indicium.tech', '16', 'GTA', '10', '10', '10', '9', '10', 'n/a']]\n"
     ]
    }
   ],
   "source": [
    "sheet_data = gs_client.get_sheet_data(\n",
    "    spreadsheet_id='1Rxo642UduYjf1OvHmvgXS5UN4OBwXK1nfOOWXMcYBrA',\n",
    "    range_name='Respostas ao formulário 1!A1:P100'\n",
    ")"
   ]
  },
  {
   "cell_type": "code",
   "execution_count": 8,
   "metadata": {},
   "outputs": [
    {
     "data": {
      "text/plain": [
       "[['Carimbo de data/hora',\n",
       "  'Endereço de e-mail',\n",
       "  'Sprint de referência (devops)',\n",
       "  'Em qual squad você está atuando?',\n",
       "  'Me senti engajado para realizar minhas atividades ao longo da última sprint',\n",
       "  'Sinto que me desenvolvi profissionalmente ao longo da última sprint\\n',\n",
       "  'Sinto que conclui as atividades da sprint com qualidade\\n',\n",
       "  'Sinto que conclui as atividades da sprint no prazo adequado\\n',\n",
       "  'De forma geral, me sinto bem e satisfeito trabalhando na Indicium',\n",
       "  'Deixe seu comentário ou sugestão do que podemos melhorar'],\n",
       " ['22/04/2024 16:56:53',\n",
       "  'natana.pedroso@indicium.tech',\n",
       "  'Sprint 18',\n",
       "  'CSC',\n",
       "  '8',\n",
       "  '8',\n",
       "  '10',\n",
       "  '10',\n",
       "  '8',\n",
       "  'n/a'],\n",
       " ['22/04/2024 17:26:08',\n",
       "  'raphael.silva@indicium.tech',\n",
       "  '18',\n",
       "  'CSC',\n",
       "  '10',\n",
       "  '10',\n",
       "  '8',\n",
       "  '7',\n",
       "  '10',\n",
       "  'Creio que o problema maior é os prazos apertados e a dificuldade de entrega'],\n",
       " ['22/04/2024 17:27:47',\n",
       "  'thalis.trabach@indicium.tech',\n",
       "  'NA',\n",
       "  'Tlog',\n",
       "  '7',\n",
       "  '7',\n",
       "  '8',\n",
       "  '9',\n",
       "  '9',\n",
       "  'não temos uma gestão assertiva pra fazer analise por sprint. estamos trabalhando para que adelia possa colocar a mão nos projetos o mais rapido possivel!'],\n",
       " ['22/04/2024 17:44:44',\n",
       "  'luis.silva@indicium.tech',\n",
       "  'Sprint 49',\n",
       "  'Tlog',\n",
       "  '10',\n",
       "  '8',\n",
       "  '10',\n",
       "  '8',\n",
       "  '10',\n",
       "  ' '],\n",
       " ['22/04/2024 19:38:08',\n",
       "  'emy.kuroiwa@indicium.tech',\n",
       "  'Sprint 62',\n",
       "  'Tlog',\n",
       "  '9',\n",
       "  '9',\n",
       "  '9',\n",
       "  '9',\n",
       "  '10',\n",
       "  'NA'],\n",
       " ['23/04/2024 08:26:23',\n",
       "  'hevans.pereira@indicium.tech',\n",
       "  '49',\n",
       "  'Tlog',\n",
       "  '10',\n",
       "  '10',\n",
       "  '10',\n",
       "  '10',\n",
       "  '10',\n",
       "  '.,;'],\n",
       " ['23/04/2024 08:28:08',\n",
       "  'claudia.fonseca@indicium.tech',\n",
       "  'Sprint 62',\n",
       "  'Tlog',\n",
       "  '10',\n",
       "  '10',\n",
       "  '7',\n",
       "  '8',\n",
       "  '10',\n",
       "  'Sinto que a quantidade de demandas aumentou muito no último mês, o que fez com que minhas entregas perdessem qualidade ou passassem do prazo. \\n\\n(Ao mesmo tempo, estamos passando os projetos de DS para o novo padrão da Indicium do Databricks, aprendendo a usar Feature Store e variáveis de ambiente, estudando para a certificação de Machine Learning do Databricks. Enquanto isso, coloquei meu primeiro modelo em produção e estou fazendo o delivery de um projeto importante.)\\n\\nAssim, estou tentando me aprimorar pra errar menos e otimizar meu tempo. Então, eu só queria agradecer a ajuda e a paciência de todos nesse processo.'],\n",
       " ['23/04/2024 13:37:53',\n",
       "  'vinicius.pereira@indicium.tech',\n",
       "  '49',\n",
       "  'Tlog',\n",
       "  '7',\n",
       "  '6',\n",
       "  '8',\n",
       "  '8',\n",
       "  '10',\n",
       "  'Eu estou curtindo muito as VQETEs. Sei que é complicado conseguir o pessoal e o assunto, mas seria legal a gente continuar'],\n",
       " ['25/04/2024 08:54:13',\n",
       "  'arthur.rogerio@indicium.tech',\n",
       "  '16',\n",
       "  'GTA',\n",
       "  '10',\n",
       "  '10',\n",
       "  '10',\n",
       "  '9',\n",
       "  '10',\n",
       "  'n/a']]"
      ]
     },
     "execution_count": 8,
     "metadata": {},
     "output_type": "execute_result"
    }
   ],
   "source": [
    "sheet_data"
   ]
  },
  {
   "cell_type": "code",
   "execution_count": 9,
   "metadata": {},
   "outputs": [],
   "source": [
    "from config import *\n",
    "from snowpark_utils import *\n",
    "from snowflake.snowpark.session import Session\n",
    "# from snowflake.connector.pandas_tools import write_pandas\n"
   ]
  },
  {
   "cell_type": "code",
   "execution_count": null,
   "metadata": {},
   "outputs": [],
   "source": [
    "# account_id = \"HCB48722.INDICIUMTECH_ENTERPRISE\"\n",
    "# username = \"IVON_GARCIA\"\n",
    "# password = \"ivon2000\"\n",
    "# role = \"SANDBOX_IVON_GARCIA\"\n",
    "# warehouse = \"SANDBOX_WAREHOUSE\"\n",
    "# database = \"SANDBOX_MANAGER\"\n",
    "# schema = \"DEV_IVON_GARCIA\""
   ]
  },
  {
   "cell_type": "code",
   "execution_count": null,
   "metadata": {},
   "outputs": [],
   "source": [
    "# demo_session = Snowflake()"
   ]
  },
  {
   "cell_type": "code",
   "execution_count": null,
   "metadata": {},
   "outputs": [],
   "source": [
    "# c = demo_session.query('SELECT * FROM SANDBOX.DEV_IVON_GARCIA.TESTE LIMIT 10')"
   ]
  },
  {
   "cell_type": "code",
   "execution_count": null,
   "metadata": {},
   "outputs": [],
   "source": [
    "# c.show()"
   ]
  },
  {
   "cell_type": "code",
   "execution_count": 10,
   "metadata": {},
   "outputs": [
    {
     "name": "stdout",
     "output_type": "stream",
     "text": [
      "Starting connection...\n",
      "Connected to Schema: \"SANDBOX\".\"DEV_IVON_GARCIA\"\n"
     ]
    }
   ],
   "source": [
    "session = ConnectSession()"
   ]
  },
  {
   "cell_type": "code",
   "execution_count": 16,
   "metadata": {},
   "outputs": [
    {
     "data": {
      "text/plain": [
       "[Row(status='Table FEEDBACK successfully created.')]"
      ]
     },
     "execution_count": 16,
     "metadata": {},
     "output_type": "execute_result"
    }
   ],
   "source": [
    "create_table_sql = \"\"\"\n",
    "CREATE OR REPLACE TABLE feedback (\n",
    "    timestamp STRING,\n",
    "    email STRING,\n",
    "    sprint_ref STRING,\n",
    "    squad STRING,\n",
    "    engagement INT,\n",
    "    development INT,\n",
    "    quality INT,\n",
    "    on_time INT,\n",
    "    satisfaction INT,\n",
    "    comments STRING\n",
    ")\n",
    "\"\"\"\n",
    "\n",
    "session.sql(create_table_sql).collect()"
   ]
  },
  {
   "cell_type": "code",
   "execution_count": 22,
   "metadata": {},
   "outputs": [],
   "source": [
    "df_table = session.table(\"SANDBOX.DEV_IVON_GARCIA.feedback\")"
   ]
  },
  {
   "cell_type": "code",
   "execution_count": 23,
   "metadata": {},
   "outputs": [
    {
     "name": "stdout",
     "output_type": "stream",
     "text": [
      "--------------------------------------------------------------------------------------------------------------------------------------------------------------------------------------------------------------\n",
      "|\"TIMESTAMP\"          |\"EMAIL\"                         |\"SPRINT_REF\"  |\"SQUAD\"  |\"ENGAGEMENT\"  |\"DEVELOPMENT\"  |\"QUALITY\"  |\"ON_TIME\"  |\"SATISFACTION\"  |\"COMMENTS\"                                          |\n",
      "--------------------------------------------------------------------------------------------------------------------------------------------------------------------------------------------------------------\n",
      "|22/04/2024 16:56:53  |natana.pedroso@indicium.tech    |Sprint 18     |CSC      |8             |8              |10         |10         |8               |n/a                                                 |\n",
      "|22/04/2024 17:26:08  |raphael.silva@indicium.tech     |18            |CSC      |10            |10             |8          |7          |10              |Creio que o problema maior é os prazos apertado...  |\n",
      "|22/04/2024 17:27:47  |thalis.trabach@indicium.tech    |NA            |Tlog     |7             |7              |8          |9          |9               |não temos uma gestão assertiva pra fazer analis...  |\n",
      "|22/04/2024 17:44:44  |luis.silva@indicium.tech        |Sprint 49     |Tlog     |10            |8              |10         |8          |10              |                                                    |\n",
      "|22/04/2024 19:38:08  |emy.kuroiwa@indicium.tech       |Sprint 62     |Tlog     |9             |9              |9          |9          |10              |NA                                                  |\n",
      "|23/04/2024 08:26:23  |hevans.pereira@indicium.tech    |49            |Tlog     |10            |10             |10         |10         |10              |.,;                                                 |\n",
      "|23/04/2024 08:28:08  |claudia.fonseca@indicium.tech   |Sprint 62     |Tlog     |10            |10             |7          |8          |10              |Sinto que a quantidade de demandas aumentou mui...  |\n",
      "|                     |                                |              |         |              |               |           |           |                |                                                    |\n",
      "|                     |                                |              |         |              |               |           |           |                |(Ao mesmo tempo, estamos passando os projetos d...  |\n",
      "|                     |                                |              |         |              |               |           |           |                |                                                    |\n",
      "|                     |                                |              |         |              |               |           |           |                |Assim, estou tentando me aprimorar pra errar me...  |\n",
      "|23/04/2024 13:37:53  |vinicius.pereira@indicium.tech  |49            |Tlog     |7             |6              |8          |8          |10              |Eu estou curtindo muito as VQETEs. Sei que é co...  |\n",
      "|25/04/2024 08:54:13  |arthur.rogerio@indicium.tech    |16            |GTA      |10            |10             |10         |9          |10              |n/a                                                 |\n",
      "--------------------------------------------------------------------------------------------------------------------------------------------------------------------------------------------------------------\n",
      "\n"
     ]
    }
   ],
   "source": [
    "df_table.show()"
   ]
  },
  {
   "cell_type": "code",
   "execution_count": 21,
   "metadata": {},
   "outputs": [],
   "source": [
    "for row in sheet_data[1:]:\n",
    "    session.sql(f\"\"\"\n",
    "    INSERT INTO feedback (timestamp, email, sprint_ref, squad, engagement, development, quality, on_time, satisfaction, comments)\n",
    "    VALUES ('{row[0]}', '{row[1]}', '{row[2]}', '{row[3]}', {row[4]}, {row[5]}, {row[6]}, {row[7]}, {row[8]}, '{row[9]}')\n",
    "    \"\"\").collect()"
   ]
  },
  {
   "cell_type": "code",
   "execution_count": null,
   "metadata": {},
   "outputs": [],
   "source": [
    "# Inserir os dados\n",
    "for row in sheet_data[1:]:\n",
    "    values = \"', '\".join(row)  # Preparar os valores para inserção\n",
    "    session.sql(f\"\"\"\n",
    "    INSERT INTO feedback ({', '.join(column_names_sql)})\n",
    "    VALUES ('{values}')\n",
    "    \"\"\").collect()"
   ]
  },
  {
   "cell_type": "code",
   "execution_count": null,
   "metadata": {},
   "outputs": [],
   "source": [
    "customer_wrt = df_table.write.mode(\"overwrite\").save_as_table(\"SANDBOX.DEV_IVON_GARCIA.feedback\")"
   ]
  },
  {
   "cell_type": "code",
   "execution_count": 15,
   "metadata": {},
   "outputs": [
    {
     "data": {
      "text/plain": [
       "['Carimbo de data/hora',\n",
       " 'Endereço de e-mail',\n",
       " 'Sprint de referência (devops)',\n",
       " 'Em qual squad você está atuando?',\n",
       " 'Me senti engajado para realizar minhas atividades ao longo da última sprint',\n",
       " 'Sinto que me desenvolvi profissionalmente ao longo da última sprint\\n',\n",
       " 'Sinto que conclui as atividades da sprint com qualidade\\n',\n",
       " 'Sinto que conclui as atividades da sprint no prazo adequado\\n',\n",
       " 'De forma geral, me sinto bem e satisfeito trabalhando na Indicium',\n",
       " 'Deixe seu comentário ou sugestão do que podemos melhorar']"
      ]
     },
     "execution_count": 15,
     "metadata": {},
     "output_type": "execute_result"
    }
   ],
   "source": [
    "column_names = sheet_data[0]\n",
    "column_names"
   ]
  },
  {
   "cell_type": "code",
   "execution_count": 13,
   "metadata": {},
   "outputs": [],
   "source": [
    "column_names_sql = [name.replace(' ', '_').replace('(', '').replace(')', '').replace('\\n', '') for name in column_names]\n"
   ]
  },
  {
   "cell_type": "code",
   "execution_count": 14,
   "metadata": {},
   "outputs": [
    {
     "data": {
      "text/plain": [
       "['Carimbo_de_data/hora',\n",
       " 'Endereço_de_e-mail',\n",
       " 'Sprint_de_referência_devops',\n",
       " 'Em_qual_squad_você_está_atuando?',\n",
       " 'Me_senti_engajado_para_realizar_minhas_atividades_ao_longo_da_última_sprint',\n",
       " 'Sinto_que_me_desenvolvi_profissionalmente_ao_longo_da_última_sprint',\n",
       " 'Sinto_que_conclui_as_atividades_da_sprint_com_qualidade',\n",
       " 'Sinto_que_conclui_as_atividades_da_sprint_no_prazo_adequado',\n",
       " 'De_forma_geral,_me_sinto_bem_e_satisfeito_trabalhando_na_Indicium',\n",
       " 'Deixe_seu_comentário_ou_sugestão_do_que_podemos_melhorar']"
      ]
     },
     "execution_count": 14,
     "metadata": {},
     "output_type": "execute_result"
    }
   ],
   "source": [
    "column_names_sql"
   ]
  },
  {
   "cell_type": "code",
   "execution_count": null,
   "metadata": {},
   "outputs": [],
   "source": []
  },
  {
   "cell_type": "code",
   "execution_count": null,
   "metadata": {},
   "outputs": [],
   "source": [
    "# from snowflake import snowpark\n",
    "# from config import *\n",
    "# SNOWFLAKE_CONFIG = {\n",
    "#         \"account\": account_id,\n",
    "#         \"user\": username,\n",
    "#         \"password\": password,\n",
    "#         \"role\": role,\n",
    "#         \"warehouse\": warehouse,\n",
    "#         \"database\": database,\n",
    "#         \"schema\": schema}\n",
    "# connection = snowpark.Session(SNOWFLAKE_CONFIG)\n",
    "# # write_pandas(conn=connection, df=sheet_df, table_name='teste_kpi')"
   ]
  },
  {
   "cell_type": "code",
   "execution_count": null,
   "metadata": {},
   "outputs": [],
   "source": [
    "pandas_df"
   ]
  },
  {
   "cell_type": "code",
   "execution_count": null,
   "metadata": {},
   "outputs": [],
   "source": [
    "snowpark_df = session.write_pandas(conn=session, df=pandas_df, table_name=\"asas\", auto_create_table=True, table_type=\"temp\")"
   ]
  },
  {
   "cell_type": "code",
   "execution_count": null,
   "metadata": {},
   "outputs": [],
   "source": [
    "snowpark_df.sort('\"city\"').to_pandas()"
   ]
  },
  {
   "cell_type": "code",
   "execution_count": null,
   "metadata": {},
   "outputs": [],
   "source": [
    "import snowflake.connector\n",
    "\n",
    "def ConnectSession():\n",
    "    print('Starting connection...')\n",
    "    session = None\n",
    "    try:\n",
    "        session = snowflake.connector.connect(\n",
    "            account=connection_params[\"account\"],\n",
    "            user=connection_params[\"user\"],\n",
    "            password=connection_params[\"password\"],\n",
    "            role=connection_params[\"role\"],\n",
    "            warehouse=connection_params[\"warehouse\"],\n",
    "            database=connection_params[\"database\"],\n",
    "            schema=connection_params[\"schema\"]\n",
    "        )\n",
    "        print(\"Connected to Snowflake\")\n",
    "    except OperationalError as e:\n",
    "        print(f\"Failed to connect to Snowflake: {e}\")\n",
    "    return session\n",
    "\n",
    "def write_dataframe(conn, df, table_name):\n",
    "    success, nchunks, nrows, _ = write_pandas(conn, df, table_name)\n",
    "    if success:\n",
    "        print(f\"Successfully inserted {nrows} rows into {table_name}\")\n",
    "    else:\n",
    "        print(\"Failed to insert data\")\n",
    "\n",
    "# Escrever dados no Snowflake\n",
    "if sheet_data is not None:\n",
    "    # Certifique-se de que o DataFrame tem as colunas corretas e tipos de dados\n",
    "    sheet_data.columns = sheet_data.iloc[0]  # Definir a primeira linha como cabeçalho\n",
    "    sheet_data = sheet_data[1:]  # Remover a primeira linha\n",
    "    \n",
    "    session = ConnectSession()\n",
    "    if session:\n",
    "        write_dataframe(session, sheet_data, \"YOUR_TABLE_NAME\")\n",
    "        session.close()\n",
    "else:\n",
    "    print(\"No data to write to Snowflake\")"
   ]
  },
  {
   "cell_type": "code",
   "execution_count": null,
   "metadata": {},
   "outputs": [],
   "source": [
    "def write_dataframe(session, df, table_name):\n",
    "        success, nchunks, nrows, _ = write_pandas(session, df, table_name)\n",
    "        if success:\n",
    "            print(f\"Successfully inserted {nrows} rows into {table_name}\")\n",
    "        else:\n",
    "            print(\"Failed to insert data\")\n",
    "\n",
    "# Escrever dados no Snowflake\n",
    "if sheet_data is not None:\n",
    "    # Certifique-se de que o DataFrame tem as colunas corretas e tipos de dados\n",
    "    sheet_data.columns = sheet_data.iloc[0]\n",
    "    # sheet_data = sheet_data.drop(0)\n",
    "    \n",
    "    write_dataframe(session, sheet_data, \"YOUR_TABLE_NAME\")\n",
    "    session.close()\n",
    "else:\n",
    "    print(\"No data to write to Snowflake\")"
   ]
  },
  {
   "cell_type": "code",
   "execution_count": null,
   "metadata": {},
   "outputs": [],
   "source": [
    "# Escrever dados no Snowflake\n",
    "if sheet_data is not None:\n",
    "    # Certifique-se de que o DataFrame tem as colunas corretas e tipos de dados\n",
    "    sheet_data.columns = sheet_data.iloc[0]  # Definir a primeira linha como cabeçalho\n",
    "    sheet_data = sheet_data[1:]  # Remover a primeira linha\n",
    "    \n",
    "    if session:\n",
    "        write_dataframe(session, sheet_data, \"YOUR_TABLE_NAME\")\n",
    "        session.close()\n",
    "else:\n",
    "    print(\"No data to write to Snowflake\")"
   ]
  },
  {
   "cell_type": "code",
   "execution_count": null,
   "metadata": {},
   "outputs": [],
   "source": [
    "connection_params = {\n",
    "        \"account\": account_id,\n",
    "        \"user\": username,\n",
    "        \"password\": password,\n",
    "        \"role\": role,\n",
    "        \"warehouse\": warehouse,\n",
    "        \"database\": database,\n",
    "        \"schema\": schema\n",
    "    }\n",
    "\n",
    "try:\n",
    "    session = Session.builder.configs(connection_params).create()\n",
    "    print(\"Connected to Schema:\", session.get_fully_qualified_current_schema())\n",
    "except OperationalError as e:\n",
    "    print(f\"Failed to connect to Snowflake: {e}\")\n"
   ]
  },
  {
   "cell_type": "code",
   "execution_count": null,
   "metadata": {},
   "outputs": [],
   "source": [
    "def create_table(session, table_name, schema):\n",
    "    session.sql(f\"\"\"\n",
    "        CREATE OR REPLACE TABLE {table_name} (\n",
    "            {', '.join([f'\"{col}\" STRING' for col in schema])}\n",
    "        )\n",
    "    \"\"\").collect()\n",
    "\n",
    "table_name = 'my_table'\n",
    "schema = sheet_data.columns\n",
    "create_table(demo_session, table_name, schema)\n"
   ]
  },
  {
   "cell_type": "code",
   "execution_count": null,
   "metadata": {},
   "outputs": [],
   "source": [
    "create_table(demo_session, create_table_query)"
   ]
  },
  {
   "cell_type": "code",
   "execution_count": null,
   "metadata": {},
   "outputs": [],
   "source": [
    "create_table_query  = f\"\"\"\n",
    "       CREATE OR REPLACE TABLE TEST_DB.TEST_SCHEMA.CALL_CENTER_COPY AS\n",
    "       SELECT \n",
    "              CC_CALL_CENTER_ID\n",
    "             ,CC_REC_START_DATE \n",
    "             ,CC_REC_END_DATE\n",
    "       FROM TEST_DB.TEST_SCHEMA.CALL_CENTER;\n",
    "    \"\"\""
   ]
  }
 ],
 "metadata": {
  "kernelspec": {
   "display_name": "Python 3",
   "language": "python",
   "name": "python3"
  },
  "language_info": {
   "codemirror_mode": {
    "name": "ipython",
    "version": 3
   },
   "file_extension": ".py",
   "mimetype": "text/x-python",
   "name": "python",
   "nbconvert_exporter": "python",
   "pygments_lexer": "ipython3",
   "version": "3.11.9"
  }
 },
 "nbformat": 4,
 "nbformat_minor": 2
}
