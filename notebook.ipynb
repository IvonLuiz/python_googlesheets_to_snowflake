{
 "cells": [
  {
   "cell_type": "code",
   "execution_count": 1,
   "metadata": {},
   "outputs": [],
   "source": [
    "import pandas as pd"
   ]
  },
  {
   "cell_type": "markdown",
   "metadata": {},
   "source": [
    "For more information about how to setup google sheets api:\n",
    "\n",
    "Portuguese: https://developers.google.com/sheets/api/quickstart/python?hl=pt-br\n",
    "\n",
    "English: https://developers.google.com/sheets/api/quickstart/python"
   ]
  },
  {
   "cell_type": "markdown",
   "metadata": {},
   "source": [
    "``` python\n",
    "pip install --upgrade google-api-python-client google-auth-httplib2 google-auth-oauthlib\n",
    "```"
   ]
  },
  {
   "cell_type": "code",
   "execution_count": 4,
   "metadata": {},
   "outputs": [],
   "source": [
    "from gsheets_utils import *"
   ]
  },
  {
   "cell_type": "code",
   "execution_count": 10,
   "metadata": {},
   "outputs": [],
   "source": [
    "gs_client = GoogleSheetsClient(credentials_file='credentials.json')\n",
    "sheet_data = gs_client.get_sheet_data_as_dataframe(spreadsheet_id='1Rxo642UduYjf1OvHmvgXS5UN4OBwXK1nfOOWXMcYBrA',\n",
    "                                                   range_name='Respostas ao formulário 1!A1:P100')"
   ]
  },
  {
   "cell_type": "code",
   "execution_count": 16,
   "metadata": {},
   "outputs": [
    {
     "data": {
      "text/html": [
       "<div>\n",
       "<style scoped>\n",
       "    .dataframe tbody tr th:only-of-type {\n",
       "        vertical-align: middle;\n",
       "    }\n",
       "\n",
       "    .dataframe tbody tr th {\n",
       "        vertical-align: top;\n",
       "    }\n",
       "\n",
       "    .dataframe thead th {\n",
       "        text-align: right;\n",
       "    }\n",
       "</style>\n",
       "<table border=\"1\" class=\"dataframe\">\n",
       "  <thead>\n",
       "    <tr style=\"text-align: right;\">\n",
       "      <th></th>\n",
       "      <th>0</th>\n",
       "      <th>1</th>\n",
       "      <th>2</th>\n",
       "      <th>3</th>\n",
       "      <th>4</th>\n",
       "      <th>5</th>\n",
       "      <th>6</th>\n",
       "      <th>7</th>\n",
       "      <th>8</th>\n",
       "      <th>9</th>\n",
       "    </tr>\n",
       "  </thead>\n",
       "  <tbody>\n",
       "    <tr>\n",
       "      <th>0</th>\n",
       "      <td>Carimbo de data/hora</td>\n",
       "      <td>Endereço de e-mail</td>\n",
       "      <td>Sprint de referência (devops)</td>\n",
       "      <td>Em qual squad você está atuando?</td>\n",
       "      <td>Me senti engajado para realizar minhas ativida...</td>\n",
       "      <td>Sinto que me desenvolvi profissionalmente ao l...</td>\n",
       "      <td>Sinto que conclui as atividades da sprint com ...</td>\n",
       "      <td>Sinto que conclui as atividades da sprint no p...</td>\n",
       "      <td>De forma geral, me sinto bem e satisfeito trab...</td>\n",
       "      <td>Deixe seu comentário ou sugestão do que podemo...</td>\n",
       "    </tr>\n",
       "    <tr>\n",
       "      <th>1</th>\n",
       "      <td>22/04/2024 16:56:53</td>\n",
       "      <td>natana.pedroso@indicium.tech</td>\n",
       "      <td>Sprint 18</td>\n",
       "      <td>CSC</td>\n",
       "      <td>8</td>\n",
       "      <td>8</td>\n",
       "      <td>10</td>\n",
       "      <td>10</td>\n",
       "      <td>8</td>\n",
       "      <td>n/a</td>\n",
       "    </tr>\n",
       "    <tr>\n",
       "      <th>2</th>\n",
       "      <td>22/04/2024 17:26:08</td>\n",
       "      <td>raphael.silva@indicium.tech</td>\n",
       "      <td>18</td>\n",
       "      <td>CSC</td>\n",
       "      <td>10</td>\n",
       "      <td>10</td>\n",
       "      <td>8</td>\n",
       "      <td>7</td>\n",
       "      <td>10</td>\n",
       "      <td>Creio que o problema maior é os prazos apertad...</td>\n",
       "    </tr>\n",
       "    <tr>\n",
       "      <th>3</th>\n",
       "      <td>22/04/2024 17:27:47</td>\n",
       "      <td>thalis.trabach@indicium.tech</td>\n",
       "      <td>NA</td>\n",
       "      <td>Tlog</td>\n",
       "      <td>7</td>\n",
       "      <td>7</td>\n",
       "      <td>8</td>\n",
       "      <td>9</td>\n",
       "      <td>9</td>\n",
       "      <td>não temos uma gestão assertiva pra fazer anali...</td>\n",
       "    </tr>\n",
       "    <tr>\n",
       "      <th>4</th>\n",
       "      <td>22/04/2024 17:44:44</td>\n",
       "      <td>luis.silva@indicium.tech</td>\n",
       "      <td>Sprint 49</td>\n",
       "      <td>Tlog</td>\n",
       "      <td>10</td>\n",
       "      <td>8</td>\n",
       "      <td>10</td>\n",
       "      <td>8</td>\n",
       "      <td>10</td>\n",
       "      <td></td>\n",
       "    </tr>\n",
       "  </tbody>\n",
       "</table>\n",
       "</div>"
      ],
      "text/plain": [
       "                      0                             1  \\\n",
       "0  Carimbo de data/hora            Endereço de e-mail   \n",
       "1   22/04/2024 16:56:53  natana.pedroso@indicium.tech   \n",
       "2   22/04/2024 17:26:08   raphael.silva@indicium.tech   \n",
       "3   22/04/2024 17:27:47  thalis.trabach@indicium.tech   \n",
       "4   22/04/2024 17:44:44      luis.silva@indicium.tech   \n",
       "\n",
       "                               2                                 3  \\\n",
       "0  Sprint de referência (devops)  Em qual squad você está atuando?   \n",
       "1                      Sprint 18                               CSC   \n",
       "2                             18                               CSC   \n",
       "3                             NA                              Tlog   \n",
       "4                      Sprint 49                              Tlog   \n",
       "\n",
       "                                                   4  \\\n",
       "0  Me senti engajado para realizar minhas ativida...   \n",
       "1                                                  8   \n",
       "2                                                 10   \n",
       "3                                                  7   \n",
       "4                                                 10   \n",
       "\n",
       "                                                   5  \\\n",
       "0  Sinto que me desenvolvi profissionalmente ao l...   \n",
       "1                                                  8   \n",
       "2                                                 10   \n",
       "3                                                  7   \n",
       "4                                                  8   \n",
       "\n",
       "                                                   6  \\\n",
       "0  Sinto que conclui as atividades da sprint com ...   \n",
       "1                                                 10   \n",
       "2                                                  8   \n",
       "3                                                  8   \n",
       "4                                                 10   \n",
       "\n",
       "                                                   7  \\\n",
       "0  Sinto que conclui as atividades da sprint no p...   \n",
       "1                                                 10   \n",
       "2                                                  7   \n",
       "3                                                  9   \n",
       "4                                                  8   \n",
       "\n",
       "                                                   8  \\\n",
       "0  De forma geral, me sinto bem e satisfeito trab...   \n",
       "1                                                  8   \n",
       "2                                                 10   \n",
       "3                                                  9   \n",
       "4                                                 10   \n",
       "\n",
       "                                                   9  \n",
       "0  Deixe seu comentário ou sugestão do que podemo...  \n",
       "1                                                n/a  \n",
       "2  Creio que o problema maior é os prazos apertad...  \n",
       "3  não temos uma gestão assertiva pra fazer anali...  \n",
       "4                                                     "
      ]
     },
     "execution_count": 16,
     "metadata": {},
     "output_type": "execute_result"
    }
   ],
   "source": [
    "sheet_data.head()"
   ]
  },
  {
   "cell_type": "code",
   "execution_count": 26,
   "metadata": {},
   "outputs": [
    {
     "data": {
      "text/plain": [
       "'De forma geral, me sinto bem e satisfeito trabalhando na Indicium'"
      ]
     },
     "execution_count": 26,
     "metadata": {},
     "output_type": "execute_result"
    }
   ],
   "source": [
    "sheet_data[8][0]"
   ]
  }
 ],
 "metadata": {
  "kernelspec": {
   "display_name": "Python 3",
   "language": "python",
   "name": "python3"
  },
  "language_info": {
   "codemirror_mode": {
    "name": "ipython",
    "version": 3
   },
   "file_extension": ".py",
   "mimetype": "text/x-python",
   "name": "python",
   "nbconvert_exporter": "python",
   "pygments_lexer": "ipython3",
   "version": "3.11.9"
  }
 },
 "nbformat": 4,
 "nbformat_minor": 2
}
