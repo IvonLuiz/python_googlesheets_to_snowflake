{
 "cells": [
  {
   "cell_type": "markdown",
   "metadata": {},
   "source": [
    "For more information about how to setup google sheets api:\n",
    "\n",
    "Portuguese: https://developers.google.com/sheets/api/quickstart/python?hl=pt-br\n",
    "\n",
    "English: https://developers.google.com/sheets/api/quickstart/python"
   ]
  },
  {
   "cell_type": "markdown",
   "metadata": {},
   "source": [
    "``` python\n",
    "pip install --upgrade google-api-python-client google-auth-httplib2 google-auth-oauthlib\n",
    "```"
   ]
  },
  {
   "cell_type": "code",
   "execution_count": 5,
   "metadata": {},
   "outputs": [],
   "source": [
    "import pandas as pd\n",
    "from gsheets_utils import *"
   ]
  },
  {
   "cell_type": "code",
   "execution_count": 6,
   "metadata": {},
   "outputs": [],
   "source": [
    "gs_client = GoogleSheetsClient(credentials_file='credentials.json')\n"
   ]
  },
  {
   "cell_type": "markdown",
   "metadata": {},
   "source": [
    "# CONTROLE DE PROJETO"
   ]
  },
  {
   "cell_type": "code",
   "execution_count": 9,
   "metadata": {},
   "outputs": [],
   "source": [
    "csc_df = gs_client.get_sheet_data_as_dataframe(\n",
    "    spreadsheet_id='1Q-P0QxPWxH_rCLslEFetiht9-SmmGtwyd5TPsm2HAp0',\n",
    "    range_name='Tarefas!A1:T1000'\n",
    ")"
   ]
  },
  {
   "cell_type": "code",
   "execution_count": 10,
   "metadata": {},
   "outputs": [],
   "source": [
    "csc_data = gs_client.get_sheet_data(\n",
    "    spreadsheet_id='1Q-P0QxPWxH_rCLslEFetiht9-SmmGtwyd5TPsm2HAp0',\n",
    "    range_name='Tarefas!A1:T1000'\n",
    ")"
   ]
  },
  {
   "cell_type": "code",
   "execution_count": 36,
   "metadata": {},
   "outputs": [],
   "source": [
    "pmo_data = gs_client.get_sheet_data(\n",
    "    spreadsheet_id='1aD6NWbiaIS1H4N09nkimKGeKJeD9ux2coW9aY2ZM-rc',\n",
    "    range_name='Tarefas!A1:T1000'\n",
    ")"
   ]
  },
  {
   "cell_type": "code",
   "execution_count": 35,
   "metadata": {},
   "outputs": [],
   "source": [
    "tlog_data = gs_client.get_sheet_data(\n",
    "    spreadsheet_id='128DTCwkR6DcthbwQzGmlGfAUnv6KuNidlE4_RWhfiXY',\n",
    "    range_name='Tarefas!A1:T3000'\n",
    ")"
   ]
  },
  {
   "cell_type": "code",
   "execution_count": 40,
   "metadata": {},
   "outputs": [],
   "source": [
    "engagement_survey_data = gs_client.get_sheet_data(\n",
    "    spreadsheet_id='1Rxo642UduYjf1OvHmvgXS5UN4OBwXK1nfOOWXMcYBrA',\n",
    "    range_name='Respostas ao formulário 1!A1:P100'\n",
    ")"
   ]
  },
  {
   "cell_type": "markdown",
   "metadata": {},
   "source": [
    "# SNOWFLAKE"
   ]
  },
  {
   "cell_type": "markdown",
   "metadata": {},
   "source": [
    "Snowflake-Snowpark-Python compatibility issue. Need to downgrade snowflake-snowpark-python to 1.9.0 (for Python 3.11, 3.10, 3.9, 3.8) and install snowflake connector using below command,( as per https://docs.snowflake.com/en/developer-guide/python-connector/python-connector-pandas#installation)\n",
    "\n",
    "´´´python\n",
    "pip install snowflake-connector-python[pandas]\n",
    "´´´"
   ]
  },
  {
   "cell_type": "code",
   "execution_count": 11,
   "metadata": {},
   "outputs": [],
   "source": [
    "from config import *\n",
    "from snowpark_utils import *\n",
    "from snowflake.snowpark.session import Session\n",
    "# from snowflake.connector.pandas_tools import write_pandas\n"
   ]
  },
  {
   "cell_type": "code",
   "execution_count": 12,
   "metadata": {},
   "outputs": [
    {
     "name": "stdout",
     "output_type": "stream",
     "text": [
      "Starting connection...\n",
      "Connected to Schema: \"SANDBOX\".\"DEV_IVON_GARCIA\"\n"
     ]
    }
   ],
   "source": [
    "session = ConnectSession()"
   ]
  },
  {
   "cell_type": "markdown",
   "metadata": {},
   "source": [
    "## Projects"
   ]
  },
  {
   "cell_type": "markdown",
   "metadata": {},
   "source": [
    "1. Data Preprocessing:\n",
    "* Fix Incomplete Rows: Corrects rows that have fewer columns than expected by padding them with empty strings.\n",
    "* Clean Column Names: Replaces spaces and special characters in column names to ensure compatibility with Snowflake.\n",
    "\n",
    "2. Creating the Pandas DataFrame: Uses the cleaned column names and fixed data.\n",
    "    \n",
    "3. Converting to Snowpark DataFrame: Converts the Pandas DataFrame to a Snowpark DataFrame.\n",
    "    \n",
    "4. Saving the DataFrame as a Table: Saves the DataFrame to Snowflake, using overwrite mode to replace any existing table with the same name.\n",
    "    \n",
    "5. Display Confirmation: Prints the first few rows of the newly created table to confirm successful creation."
   ]
  },
  {
   "cell_type": "code",
   "execution_count": 34,
   "metadata": {},
   "outputs": [],
   "source": [
    "def create_table(session, data, table_name):\n",
    "    \"\"\"\n",
    "    Creates a table in Snowflake from a list of data. The first row of the data is used as column names.\n",
    "    The table is created using Snowpark, and any existing table with the same name is overwritten.\n",
    "\n",
    "    Parameters:\n",
    "    session: Snowpark session object.\n",
    "    data: List of lists containing the data. The first list should contain column names.\n",
    "    table_name: The name of the table to be created in Snowflake.\n",
    "    \"\"\"\n",
    "    \n",
    "    # Extract column names from the first row of data\n",
    "    columns = data[0]\n",
    "    data = data[1:]\n",
    "    \n",
    "    # Fix rows with missing columns by appending empty strings to match the length of the columns\n",
    "    fixed_data = [row + [''] * (len(columns) - len(row)) for row in data]\n",
    "    \n",
    "    # Replace special characters and spaces in column names to make them compatible with Snowflake\n",
    "    clean_columns = [col.replace(\" \", \"_\").replace(\"(\", \"\").replace(\")\", \"\").replace(\"-\", \"_\").replace(\"ç\", \"c\").replace(\"ã\", \"a\") for col in columns]\n",
    "    \n",
    "    # Create a Pandas DataFrame using the fixed data and cleaned column names\n",
    "    df = pd.DataFrame(fixed_data, columns=clean_columns)\n",
    "    \n",
    "    # Convert the Pandas DataFrame to a Snowpark DataFrame\n",
    "    snowpark_df = session.create_dataframe(df)\n",
    "    \n",
    "    # Insert the data into Snowflake and overwrite any existing table with the same name\n",
    "    snowpark_df.write.mode(\"overwrite\").save_as_table(table_name)\n",
    "\n",
    "    # Print a message indicating the table was created and show the first few rows of the table\n",
    "    print('Table created:')\n",
    "    df_table = session.table(table_name)\n",
    "    df_table.show()"
   ]
  },
  {
   "cell_type": "raw",
   "metadata": {},
   "source": [
    "create_table_query = f\"\"\"\n",
    "CREATE OR REPLACE TABLE {table_name} (\n",
    "    Sprint STRING,\n",
    "    ID STRING,\n",
    "    CTI STRING,\n",
    "    Classificacao STRING,\n",
    "    Task STRING,\n",
    "    Descricao STRING,\n",
    "    Entrega STRING,\n",
    "    Produto STRING,\n",
    "    Responsavel STRING,\n",
    "    Marcador STRING,\n",
    "    Funcao STRING,\n",
    "    Bitrix STRING,\n",
    "    Status STRING,\n",
    "    Inicio STRING,\n",
    "    Conclusao STRING,\n",
    "    Observacao STRING,\n",
    "    Tempo_Estimado_horas STRING,\n",
    "    Tempo_Efetivo_horas STRING,\n",
    "    Tempo_Efetivo_Repasse_horas STRING,\n",
    "    Id_task_atrasada STRING\n",
    ")\n",
    "\"\"\""
   ]
  },
  {
   "cell_type": "code",
   "execution_count": null,
   "metadata": {},
   "outputs": [],
   "source": [
    "create_table(session, csc_data, table_name='teste_csc')"
   ]
  },
  {
   "cell_type": "code",
   "execution_count": 39,
   "metadata": {},
   "outputs": [
    {
     "name": "stdout",
     "output_type": "stream",
     "text": [
      "Table created:\n",
      "-------------------------------------------------------------------------------------------------------------------------------------------------------------------------------------------------------------------------------------------------------------------------------------------------------------------------------------------------------------------------------------------------------------------------\n",
      "|\"Sprint\"  |\"ID\"   |\"CTI\"  |\"Classificacao\"  |\"Task\"                                            |\"Descricao\"  |\"Entrega\"                       |\"Produto\"  |\"Responsavel\"                   |\"Marcador\"  |\"Funcao\"               |\"Bitrix?\"  |\"Status\"   |\"Inicio\"    |\"Conclusao\"  |\"Tempo_Estimado_horas\"  |\"Tempo_Efetivo_horas\"  |\"Tempo_Efetivo_Repasse_horas\"  |\"Id_task_atrasada\"  |\"Previsto_no_Planejamento?\"  |\n",
      "-------------------------------------------------------------------------------------------------------------------------------------------------------------------------------------------------------------------------------------------------------------------------------------------------------------------------------------------------------------------------------------------------------------------------\n",
      "|1         |71058  |       |                 |Suporte técnico                                   |             |Supervisão Tecnica              |QA         |Vitor Paulon Avancini           |            |Diretoria              |Sim        |Completed  |30/05/2022  |10/06/2022   |20,00                   |0,00                   |                               |                    |                             |\n",
      "|1         |70978  |       |                 |Gestão do projeto                                 |             |Gestão do Projeto               |Gestão     |Bernardo Kuerten Dellagnelo     |            |Projetos               |Sim        |Completed  |30/05/2022  |10/06/2022   |20,00                   |22,75                  |                               |                    |                             |\n",
      "|1         |70988  |       |                 |Acompanhamento do time e entendimento do negócio  |             |Acompanhamento do time Edenred  |QA         |Vitor Gerber Weiss              |            |Produto                |Sim        |Completed  |30/05/2022  |10/06/2022   |64,00                   |27,00                  |                               |                    |                             |\n",
      "|1         |70990  |       |                 |Acompanhamento do time e entendimento do negócio  |             |Acompanhamento do time Edenred  |QA         |Carlos Alberto Juraszek Junior  |            |Analytics Engineering  |Sim        |Completed  |30/05/2022  |10/06/2022   |20,00                   |13,00                  |                               |                    |                             |\n",
      "|1         |71060  |       |                 |Acompanhamento do time e entendimento do negócio  |             |Acompanhamento do time Edenred  |QA         |Gabriel Lajús Maccarini         |            |Analytics Engineering  |Sim        |Completed  |30/05/2022  |10/06/2022   |48,00                   |8,96                   |                               |                    |                             |\n",
      "|1         |70984  |       |                 |Reuniões de sprint                                |             |Reunião de Projetos             |Gestão     |Carlos Alberto Juraszek Junior  |            |Analytics Engineering  |Sim        |Completed  |30/05/2022  |10/06/2022   |6,00                    |0,00                   |                               |                    |                             |\n",
      "|1         |71056  |       |                 |Acompanhamento do time e entendimento do negócio  |             |Acompanhamento do time Edenred  |QA         |Leonardo Gasparotto Menini      |            |Data Engineering       |Sim        |Completed  |30/05/2022  |10/06/2022   |64,00                   |48,00                  |                               |                    |                             |\n",
      "|1         |71054  |       |                 |Acompanhamento do time e entendimento do negócio  |             |Acompanhamento do time Edenred  |QA         |Níkolas Santos Alves            |            |Data Engineering       |Sim        |Completed  |30/05/2022  |10/06/2022   |64,00                   |49,50                  |                               |                    |                             |\n",
      "|1         |70980  |       |                 |Suporte técnico                                   |             |Supervisão Tecnica              |QA         |Ana Claudia Garcia              |            |Produto                |Sim        |Completed  |30/05/2022  |10/06/2022   |20,00                   |26,00                  |                               |                    |                             |\n",
      "|1         |70982  |       |                 |Reuniões de sprint                                |             |Reunião de Projetos             |Gestão     |Vitor Gerber Weiss              |            |Produto                |Sim        |Completed  |30/05/2022  |10/06/2022   |6,00                    |8,25                   |                               |                    |                             |\n",
      "-------------------------------------------------------------------------------------------------------------------------------------------------------------------------------------------------------------------------------------------------------------------------------------------------------------------------------------------------------------------------------------------------------------------------\n",
      "\n"
     ]
    }
   ],
   "source": [
    "create_table(session, tlog_data, table_name='teste_tlog')"
   ]
  },
  {
   "cell_type": "code",
   "execution_count": 38,
   "metadata": {},
   "outputs": [
    {
     "name": "stdout",
     "output_type": "stream",
     "text": [
      "Table created:\n",
      "-----------------------------------------------------------------------------------------------------------------------------------------------------------------------------------------------------------------------------------------------------------------------------------------------------------------------------------------------------------------------------------\n",
      "|\"Sprint\"  |\"ID\"    |\"CTI\"        |\"Classificacao\"  |\"Task\"              |\"Descricao\"  |\"Entrega\"            |\"Produto\"  |\"Responsavel\"               |\"Marcador\"  |\"Funcao\"               |\"Bitrix?\"  |\"Status\"   |\"Inicio\"    |\"Conclusao\"  |\"Tempo_Estimado_horas\"  |\"Tempo_Efetivo_horas\"  |\"Tempo_Efetivo_Repasse_horas\"  |\"Id_task_atrasada\"  |\"Previsto_no_Planejamento?\"  |\n",
      "-----------------------------------------------------------------------------------------------------------------------------------------------------------------------------------------------------------------------------------------------------------------------------------------------------------------------------------------------------------------------------------\n",
      "|1         |215208  |06.02.02-00  |                 |Desenvolvimento     |             |Desenvolvimento      |PMO BI     |Camila Bosa Custódio        |            |Analytics Engineering  |Sim        |Completed  |13/11/2023  |24/11/2023   |40,0                    |16,0                   |                               |                    |                             |\n",
      "|1         |215426  |06.05.04-00  |                 |Supervisão Técnica  |             |Supervisão Tecnica   |Gestão     |Viviane Pagnussat Cechetti  |            |Data Analytics         |Sim        |Completed  |13/11/2023  |24/11/2023   |10,0                    |0,0                    |                               |                    |                             |\n",
      "|1         |215210  |06.04.01-99  |                 |Gestão do projeto   |             |Gestão do Projeto    |Gestão     |Higino Neto                 |            |Projetos               |Sim        |Completed  |13/11/2023  |24/11/2023   |10,0                    |20,0                   |                               |                    |                             |\n",
      "|2         |226118  |06.04.01-99  |                 |Gestão do projeto   |             |Gestão do Projeto    |Gestão     |Higino Neto                 |            |Projetos               |Sim        |Completed  |27/11/2023  |08/12/2023   |10,0                    |0,0                    |                               |                    |                             |\n",
      "|2         |226120  |06.02.02-00  |                 |Desenvolvimento     |             |Desenvolvimento      |PMO BI     |Camila Bosa Custódio        |            |Analytics Engineering  |Sim        |Completed  |27/11/2023  |08/12/2023   |40,0                    |18,0                   |                               |                    |                             |\n",
      "|2         |227342  |06.04.01-99  |                 |Supervisão Técnica  |             |Supervisão Tecnica   |Gestão     |Caroline Mano               |            |Analytics Engineering  |Sim        |Completed  |27/11/2023  |08/12/2023   |10,0                    |26,6                   |                               |                    |                             |\n",
      "|3         |232454  |06.04.01-99  |                 |Supervisão técnica  |             |Supervisão Tecnica   |Gestão     |Caroline Mano               |            |Analytics Engineering  |Sim        |Completed  |11/12/2023  |22/12/2023   |10,0                    |0,5                    |                               |                    |                             |\n",
      "|3         |232456  |06.04.01-99  |                 |Reuniões            |             |Reuniões             |Gestão     |Caroline Mano               |            |Analytics Engineering  |Sim        |Completed  |11/12/2023  |22/12/2023   |10,0                    |2,0                    |                               |                    |                             |\n",
      "|3         |232458  |06.04.01-99  |                 |Gestão do projeto   |             |Gestão do Projeto    |Gestão     |Higino Neto                 |            |Projetos               |Sim        |Completed  |11/12/2023  |22/12/2023   |10,0                    |0,0                    |                               |                    |                             |\n",
      "|3         |232460  |06.02.02-00  |                 |Desenvolvimento     |             |Desenvolvimento      |PMO BI     |Camila Bosa Custódio        |            |Analytics Engineering  |Sim        |Completed  |11/12/2023  |22/12/2023   |40,0                    |16,0                   |                               |                    |                             |\n",
      "-----------------------------------------------------------------------------------------------------------------------------------------------------------------------------------------------------------------------------------------------------------------------------------------------------------------------------------------------------------------------------------\n",
      "\n"
     ]
    }
   ],
   "source": [
    "create_table(session, pmo_data, table_name='teste_pmo')"
   ]
  },
  {
   "cell_type": "code",
   "execution_count": 41,
   "metadata": {},
   "outputs": [
    {
     "name": "stdout",
     "output_type": "stream",
     "text": [
      "Table created:\n",
      "--------------------------------------------------------------------------------------------------------------------------------------------------------------------------------------------------------------------------------------------------------------------------------------------------------------------------------------------------------------------------------------------------------------------------------------------------------------\n",
      "|\"Carimbo_de_data/hora\"  |\"Endereco_de_e_mail\"            |\"Sprint_de_referência_devops\"  |\"Em_qual_squad_você_está_atuando?\"  |\"Me_senti_engajado_para_realizar_minhas_ativida...  |\"Sinto_que_me_desenvolvi_profissionalmente_ao_l...  |\"Sinto_que_conclui_as_atividades_da_sprint_com_...  |\"Sinto_que_conclui_as_atividades_da_sprint_no_p...  |\"De_forma_geral,_me_sinto_bem_e_satisfeito_trab...  |\"Deixe_seu_comentário_ou_sugestao_do_que_podemo...  |\n",
      "--------------------------------------------------------------------------------------------------------------------------------------------------------------------------------------------------------------------------------------------------------------------------------------------------------------------------------------------------------------------------------------------------------------------------------------------------------------\n",
      "|22/04/2024 16:56:53     |natana.pedroso@indicium.tech    |Sprint 18                      |CSC                                 |8                                                   |8                                                   |10                                                  |10                                                  |8                                                   |n/a                                                 |\n",
      "|22/04/2024 17:26:08     |raphael.silva@indicium.tech     |18                             |CSC                                 |10                                                  |10                                                  |8                                                   |7                                                   |10                                                  |Creio que o problema maior é os prazos apertado...  |\n",
      "|22/04/2024 17:27:47     |thalis.trabach@indicium.tech    |NA                             |Tlog                                |7                                                   |7                                                   |8                                                   |9                                                   |9                                                   |não temos uma gestão assertiva pra fazer analis...  |\n",
      "|22/04/2024 17:44:44     |luis.silva@indicium.tech        |Sprint 49                      |Tlog                                |10                                                  |8                                                   |10                                                  |8                                                   |10                                                  |                                                    |\n",
      "|22/04/2024 19:38:08     |emy.kuroiwa@indicium.tech       |Sprint 62                      |Tlog                                |9                                                   |9                                                   |9                                                   |9                                                   |10                                                  |NA                                                  |\n",
      "|23/04/2024 08:26:23     |hevans.pereira@indicium.tech    |49                             |Tlog                                |10                                                  |10                                                  |10                                                  |10                                                  |10                                                  |.,;                                                 |\n",
      "|23/04/2024 08:28:08     |claudia.fonseca@indicium.tech   |Sprint 62                      |Tlog                                |10                                                  |10                                                  |7                                                   |8                                                   |10                                                  |Sinto que a quantidade de demandas aumentou mui...  |\n",
      "|                        |                                |                               |                                    |                                                    |                                                    |                                                    |                                                    |                                                    |                                                    |\n",
      "|                        |                                |                               |                                    |                                                    |                                                    |                                                    |                                                    |                                                    |(Ao mesmo tempo, estamos passando os projetos d...  |\n",
      "|                        |                                |                               |                                    |                                                    |                                                    |                                                    |                                                    |                                                    |                                                    |\n",
      "|                        |                                |                               |                                    |                                                    |                                                    |                                                    |                                                    |                                                    |Assim, estou tentando me aprimorar pra errar me...  |\n",
      "|23/04/2024 13:37:53     |vinicius.pereira@indicium.tech  |49                             |Tlog                                |7                                                   |6                                                   |8                                                   |8                                                   |10                                                  |Eu estou curtindo muito as VQETEs. Sei que é co...  |\n",
      "|25/04/2024 08:54:13     |arthur.rogerio@indicium.tech    |16                             |GTA                                 |10                                                  |10                                                  |10                                                  |9                                                   |10                                                  |n/a                                                 |\n",
      "--------------------------------------------------------------------------------------------------------------------------------------------------------------------------------------------------------------------------------------------------------------------------------------------------------------------------------------------------------------------------------------------------------------------------------------------------------------\n",
      "\n"
     ]
    }
   ],
   "source": [
    "create_table(session, engagement_survey_data, table_name='teste_survey')"
   ]
  },
  {
   "cell_type": "markdown",
   "metadata": {},
   "source": [
    "# Feedback"
   ]
  },
  {
   "cell_type": "code",
   "execution_count": 18,
   "metadata": {},
   "outputs": [
    {
     "name": "stdout",
     "output_type": "stream",
     "text": [
      "---------------------------------------------------------------------------------------------------------------------------------------\n",
      "|\"TIMESTAMP\"  |\"EMAIL\"  |\"SPRINT_REF\"  |\"SQUAD\"  |\"ENGAGEMENT\"  |\"DEVELOPMENT\"  |\"QUALITY\"  |\"ON_TIME\"  |\"SATISFACTION\"  |\"COMMENTS\"  |\n",
      "---------------------------------------------------------------------------------------------------------------------------------------\n",
      "|             |         |              |         |              |               |           |           |                |            |\n",
      "---------------------------------------------------------------------------------------------------------------------------------------\n",
      "\n"
     ]
    }
   ],
   "source": [
    "create_table_sql = \"\"\"\n",
    "CREATE OR REPLACE TABLE feedback (\n",
    "    timestamp STRING,\n",
    "    email STRING,\n",
    "    sprint_ref STRING,\n",
    "    squad STRING,\n",
    "    engagement INT,\n",
    "    development INT,\n",
    "    quality INT,\n",
    "    on_time INT,\n",
    "    satisfaction INT,\n",
    "    comments STRING\n",
    ")\n",
    "\"\"\"\n",
    "\n",
    "session.sql(create_table_sql).collect()"
   ]
  },
  {
   "cell_type": "code",
   "execution_count": 19,
   "metadata": {},
   "outputs": [],
   "source": [
    "for row in sheet_data[1:]:\n",
    "    session.sql(f\"\"\"\n",
    "    INSERT INTO feedback (timestamp, email, sprint_ref, squad, engagement, development, quality, on_time, satisfaction, comments)\n",
    "    VALUES ('{row[0]}', '{row[1]}', '{row[2]}', '{row[3]}', {row[4]}, {row[5]}, {row[6]}, {row[7]}, {row[8]}, '{row[9]}')\n",
    "    \"\"\").collect()"
   ]
  },
  {
   "cell_type": "code",
   "execution_count": 20,
   "metadata": {},
   "outputs": [
    {
     "ename": "NameError",
     "evalue": "name 'column_names_sql' is not defined",
     "output_type": "error",
     "traceback": [
      "\u001b[0;31m---------------------------------------------------------------------------\u001b[0m",
      "\u001b[0;31mNameError\u001b[0m                                 Traceback (most recent call last)",
      "Cell \u001b[0;32mIn[20], line 5\u001b[0m\n\u001b[1;32m      2\u001b[0m \u001b[38;5;28;01mfor\u001b[39;00m row \u001b[38;5;129;01min\u001b[39;00m sheet_data[\u001b[38;5;241m1\u001b[39m:]:\n\u001b[1;32m      3\u001b[0m     values \u001b[38;5;241m=\u001b[39m \u001b[38;5;124m\"\u001b[39m\u001b[38;5;124m'\u001b[39m\u001b[38;5;124m, \u001b[39m\u001b[38;5;124m'\u001b[39m\u001b[38;5;124m\"\u001b[39m\u001b[38;5;241m.\u001b[39mjoin(row)  \u001b[38;5;66;03m# Preparar os valores para inserção\u001b[39;00m\n\u001b[1;32m      4\u001b[0m     session\u001b[38;5;241m.\u001b[39msql(\u001b[38;5;124mf\u001b[39m\u001b[38;5;124m\"\"\"\u001b[39m\n\u001b[0;32m----> 5\u001b[0m \u001b[38;5;124m    INSERT INTO feedback (\u001b[39m\u001b[38;5;132;01m{\u001b[39;00m\u001b[38;5;124m'\u001b[39m\u001b[38;5;124m, \u001b[39m\u001b[38;5;124m'\u001b[39m\u001b[38;5;241m.\u001b[39mjoin(\u001b[43mcolumn_names_sql\u001b[49m)\u001b[38;5;132;01m}\u001b[39;00m\u001b[38;5;124m)\u001b[39m\n\u001b[1;32m      6\u001b[0m \u001b[38;5;124m    VALUES (\u001b[39m\u001b[38;5;124m'\u001b[39m\u001b[38;5;132;01m{\u001b[39;00mvalues\u001b[38;5;132;01m}\u001b[39;00m\u001b[38;5;124m'\u001b[39m\u001b[38;5;124m)\u001b[39m\n\u001b[1;32m      7\u001b[0m \u001b[38;5;124m    \u001b[39m\u001b[38;5;124m\"\"\"\u001b[39m)\u001b[38;5;241m.\u001b[39mcollect()\n",
      "\u001b[0;31mNameError\u001b[0m: name 'column_names_sql' is not defined"
     ]
    }
   ],
   "source": [
    "# Inserir os dados\n",
    "for row in sheet_data[1:]:\n",
    "    values = \"', '\".join(row)  # Preparar os valores para inserção\n",
    "    session.sql(f\"\"\"\n",
    "    INSERT INTO feedback ({', '.join(column_names_sql)})\n",
    "    VALUES ('{values}')\n",
    "    \"\"\").collect()"
   ]
  },
  {
   "cell_type": "code",
   "execution_count": null,
   "metadata": {},
   "outputs": [],
   "source": [
    "customer_wrt = df_table.write.mode(\"overwrite\").save_as_table(\"SANDBOX.DEV_IVON_GARCIA.feedback\")"
   ]
  },
  {
   "cell_type": "code",
   "execution_count": null,
   "metadata": {},
   "outputs": [],
   "source": [
    "column_names = sheet_data[0]\n",
    "column_names"
   ]
  },
  {
   "cell_type": "code",
   "execution_count": null,
   "metadata": {},
   "outputs": [],
   "source": [
    "column_names_sql = [name.replace(' ', '_').replace('(', '').replace(')', '').replace('\\n', '') for name in column_names]\n"
   ]
  },
  {
   "cell_type": "code",
   "execution_count": null,
   "metadata": {},
   "outputs": [],
   "source": [
    "column_names_sql"
   ]
  },
  {
   "cell_type": "code",
   "execution_count": null,
   "metadata": {},
   "outputs": [],
   "source": []
  },
  {
   "cell_type": "code",
   "execution_count": null,
   "metadata": {},
   "outputs": [],
   "source": [
    "# from snowflake import snowpark\n",
    "# from config import *\n",
    "# SNOWFLAKE_CONFIG = {\n",
    "#         \"account\": account_id,\n",
    "#         \"user\": username,\n",
    "#         \"password\": password,\n",
    "#         \"role\": role,\n",
    "#         \"warehouse\": warehouse,\n",
    "#         \"database\": database,\n",
    "#         \"schema\": schema}\n",
    "# connection = snowpark.Session(SNOWFLAKE_CONFIG)\n",
    "# # write_pandas(conn=connection, df=sheet_df, table_name='teste_kpi')"
   ]
  },
  {
   "cell_type": "code",
   "execution_count": null,
   "metadata": {},
   "outputs": [],
   "source": [
    "pandas_df"
   ]
  },
  {
   "cell_type": "code",
   "execution_count": null,
   "metadata": {},
   "outputs": [],
   "source": [
    "snowpark_df = session.write_pandas(conn=session, df=pandas_df, table_name=\"asas\", auto_create_table=True, table_type=\"temp\")"
   ]
  },
  {
   "cell_type": "code",
   "execution_count": null,
   "metadata": {},
   "outputs": [],
   "source": [
    "snowpark_df.sort('\"city\"').to_pandas()"
   ]
  },
  {
   "cell_type": "code",
   "execution_count": null,
   "metadata": {},
   "outputs": [],
   "source": [
    "def write_dataframe(session, df, table_name):\n",
    "        success, nchunks, nrows, _ = write_pandas(session, df, table_name)\n",
    "        if success:\n",
    "            print(f\"Successfully inserted {nrows} rows into {table_name}\")\n",
    "        else:\n",
    "            print(\"Failed to insert data\")\n",
    "\n",
    "# Escrever dados no Snowflake\n",
    "if sheet_data is not None:\n",
    "    # Certifique-se de que o DataFrame tem as colunas corretas e tipos de dados\n",
    "    sheet_data.columns = sheet_data.iloc[0]\n",
    "    # sheet_data = sheet_data.drop(0)\n",
    "    \n",
    "    write_dataframe(session, sheet_data, \"YOUR_TABLE_NAME\")\n",
    "    session.close()\n",
    "else:\n",
    "    print(\"No data to write to Snowflake\")"
   ]
  }
 ],
 "metadata": {
  "kernelspec": {
   "display_name": "Python 3 (ipykernel)",
   "language": "python",
   "name": "python3"
  },
  "language_info": {
   "codemirror_mode": {
    "name": "ipython",
    "version": 3
   },
   "file_extension": ".py",
   "mimetype": "text/x-python",
   "name": "python",
   "nbconvert_exporter": "python",
   "pygments_lexer": "ipython3",
   "version": "3.10.12"
  }
 },
 "nbformat": 4,
 "nbformat_minor": 4
}
